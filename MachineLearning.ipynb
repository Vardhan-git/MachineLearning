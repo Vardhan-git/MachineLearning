{
  "nbformat": 4,
  "nbformat_minor": 0,
  "metadata": {
    "colab": {
      "provenance": []
    },
    "kernelspec": {
      "name": "python3",
      "display_name": "Python 3"
    },
    "language_info": {
      "name": "python"
    }
  },
  "cells": [
    {
      "cell_type": "code",
      "execution_count": null,
      "metadata": {
        "id": "S-7k3R2OSsWt"
      },
      "outputs": [],
      "source": []
    },
    {
      "cell_type": "markdown",
      "source": [
        "1. Explain the differences between AI, ML, Deep Learning (DL), and Data Science(DS)\n",
        "- Artificial Intelligence (AI) :\n",
        "AI refers to making machines mimic human intelligence, including reasoning and decision-making.Techniques include rule-based systems, expert systems, and search algorithms, operating on both predefined logic and data.           Example applications: chatbots, robotics, self-driving cars\n",
        "\n",
        "- Machine Learning (ML) :\n",
        "ML is a subset of AI, enabling systems to learn from data without explicit programming.Common techniques include regression, classification, and clustering.ML depends on labeled data to identify patterns and improve predictions.Example applications: spam detection, fraud detection.\n",
        "\n",
        "- Deep Learning (DL)\n",
        "DL is a subfield of ML that uses neural networks with multiple layers to learn from massive datasets.It excels at processing complex tasks like image and speech recognition, which require more data and computational power.     Example applications: face recognition, speech-to-text, sentiment analysis.\n",
        "\n",
        "- Data Science (DS)\n",
        "DS is the process of extracting knowledge and insights from structured and unstructured data, often using methods from AI, ML, and DL.It combines statistics, data analysis, ML, big data, and visualization to inform business and research decisions.Example applications: market predictions, business analytics, healthcare analytics.\n",
        "\n",
        "2. What are the types of machine learning? Describe each with one\n",
        "real-world example.\n",
        "- There are three main types of machine learning: supervised learning, unsupervised learning, and reinforcement learning. Each uses a different approach to learning from data and solving problems, as shown in the examples below\n",
        "\n",
        "- Supervised Learning\n",
        "Supervised learning trains models using labeled datasets, where both the input data and correct output are provided. The model learns to map inputs to outputs Example: Email spam detection filters emails as “spam” or “not spam” based on features like content and sender details.\n",
        "\n",
        "- Unsupervised Learning\n",
        "Unsupervised learning works with unlabeled data and finds structure or patterns without known outputs. It’s commonly used for clustering and association.Example: Customer segmentation groups users into categories using purchasing behavior and demographics, without predefined labels\n",
        "\n",
        "- Reinforcement Learning\n",
        "Reinforcement learning trains an agent to make decisions by rewarding good actions and penalizing poor choices through trial and error within an environment.Example: Self-driving cars learn to navigate roads by receiving rewards for staying within lanes and penalties for unsafe driving actions.These three types define how algorithms approach problems, what data they use, and the real-world tasks they solve.\n",
        "\n",
        "3. Define overfitting, underfitting, and the bias-variance tradeoff in machine\n",
        "learning.\n",
        "\n",
        "- Overfitting: Model memorizes data, fails to generalize well\n",
        "\tError pattern: Low bias, high variance\n",
        "\n",
        "- Underfitting: Model too simple, misses key data patterns\n",
        "  Error pattern: High bias, low variance\n",
        "\n",
        "- Bias-Variance Tradeoff: Balance between model simplicity and complexity\n",
        "  Error Pattern: Needed for optimal generalization\n",
        "\n",
        "4. What are outliers in a dataset, and list three common techniques for handling them\n",
        "\n",
        "- Outliers in a dataset are data points that deviate significantly from the majority of observations, often appearing as unusually high or low values compared to the rest of the data. These can arise due to measurement errors, natural variation, or rare events, and they can impact statistical analysis by skewing results or affecting model performance.\n",
        "\n",
        "Three Common Techniques for Handling Outliers\n",
        "- Z-Score Method: Outliers are identified by calculating the z-score (number of standard deviations from the mean) for each data point; values with z-scores greater than a threshold (commonly ±3) are considered outliers and can be removed or adjusted.\n",
        "\n",
        "- Interquartile Range (IQR) Method: Outliers are detected by computing the IQR (the range between the 25th and 75th percentiles). Data points lying below Q1\n",
        " 1.5IQR or above Q3 + 1.5IQR are flagged as outliers and may be dropped or capped.\n",
        "\n",
        "- Visualization Methods (Box Plots): Outliers are visually identified using box plots, which highlight values that fall outside the typical range (whiskers), making it easier to spot and handle unusual points in the data\n",
        "\n",
        "5. Explain the process of handling missing values and mention one\n",
        "imputation technique for numerical and one for categorical data.\n",
        "\n",
        "- Handling missing values involves identifying, analyzing, and then filling in or removing gaps in a dataset to improve the quality and reliability of any subsequent analysis or modeling. The process ensures that missing information does not bias results or reduce statistical power.\n",
        "\n",
        "- Imputation Techniques\n",
        "Numerical Data: A common imputation method is mean imputation, where missing numerical values are replaced by the average of the observed values in that feature.\n",
        "\n",
        "\n",
        "6."
      ],
      "metadata": {
        "id": "wSLEIMZ0S6Z1"
      }
    },
    {
      "cell_type": "code",
      "source": [
        "#Write a Python program that: Creates a synthetic imbalanced dataset with make_classification() from sklearn.datasets.Prints the class distribution\n",
        "from sklearn.datasets import make_classification\n",
        "from collections import Counter\n",
        "\n",
        "# Create synthetic imbalanced dataset\n",
        "X, y = make_classification(n_samples=1000, n_features=10, n_classes=2,\n",
        "                           weights=[0.9, 0.1], flip_y=0, random_state=42)\n",
        "\n",
        "# Print class distribution\n",
        "class_counts = Counter(y)\n",
        "print(\"Class distribution:\", class_counts)\n"
      ],
      "metadata": {
        "colab": {
          "base_uri": "https://localhost:8080/"
        },
        "id": "nSfnEkumVyUg",
        "outputId": "305932ea-cd48-4d86-9f17-c8d6c5a2f724"
      },
      "execution_count": 1,
      "outputs": [
        {
          "output_type": "stream",
          "name": "stdout",
          "text": [
            "Class distribution: Counter({np.int64(0): 900, np.int64(1): 100})\n"
          ]
        }
      ]
    },
    {
      "cell_type": "code",
      "source": [
        "#Implement one-hot encoding using pandas for the following list of colors:['Red', 'Green', 'Blue', 'Green', 'Red']. Print the resulting dataframe.\n",
        "import pandas as pd\n",
        "\n",
        "# List of colors\n",
        "colors = ['Red', 'Green', 'Blue', 'Green', 'Red']\n",
        "\n",
        "# Create a DataFrame\n",
        "df = pd.DataFrame({'Color': colors})\n",
        "\n",
        "# Perform one-hot encoding using pandas get_dummies\n",
        "one_hot_encoded_df = pd.get_dummies(df, columns=['Color'])\n",
        "\n",
        "# Print the resulting DataFrame\n",
        "print(one_hot_encoded_df)\n"
      ],
      "metadata": {
        "colab": {
          "base_uri": "https://localhost:8080/"
        },
        "id": "-sMr6PQZUYan",
        "outputId": "47260141-0c67-4749-d8f6-113d638e47d6"
      },
      "execution_count": 2,
      "outputs": [
        {
          "output_type": "stream",
          "name": "stdout",
          "text": [
            "   Color_Blue  Color_Green  Color_Red\n",
            "0       False        False       True\n",
            "1       False         True      False\n",
            "2        True        False      False\n",
            "3       False         True      False\n",
            "4       False        False       True\n"
          ]
        }
      ]
    },
    {
      "cell_type": "code",
      "source": [
        "#Write a Python script to: Generate 1000 samples from a normal distribution. Introduce 50 random missing values. Fill missing values with the column mean.Plot a histogram before and after imputation.\n",
        "import numpy as np\n",
        "import pandas as pd\n",
        "import matplotlib.pyplot as plt\n",
        "\n",
        "# Generate 1000 samples from a normal distribution\n",
        "np.random.seed(42)\n",
        "data = np.random.normal(loc=0, scale=1, size=1000)\n",
        "df = pd.DataFrame(data, columns=['Value'])\n",
        "\n",
        "# Introduce 50 random missing values\n",
        "missing_indices = np.random.choice(df.index, 50, replace=False)\n",
        "df.loc[missing_indices, 'Value'] = np.nan\n",
        "\n",
        "# Plot histogram before imputation\n",
        "plt.figure(figsize=(12, 5))\n",
        "plt.subplot(1, 2, 1)\n",
        "plt.hist(df['Value'].dropna(), bins=30, alpha=0.7, color='blue')\n",
        "plt.title('Histogram Before Imputation')\n",
        "plt.xlabel('Value')\n",
        "plt.ylabel('Frequency')\n",
        "\n",
        "# Fill missing values with the column mean\n",
        "mean_value = df['Value'].mean()\n",
        "df['Value'].fillna(mean_value, inplace=True)\n",
        "\n",
        "# Plot histogram after imputation\n",
        "plt.subplot(1, 2, 2)\n",
        "plt.hist(df['Value'], bins=30, alpha=0.7, color='green')\n",
        "plt.title('Histogram After Imputation')\n",
        "plt.xlabel('Value')\n",
        "plt.ylabel('Frequency')\n",
        "\n",
        "plt.tight_layout()\n",
        "plt.show()\n"
      ],
      "metadata": {
        "colab": {
          "base_uri": "https://localhost:8080/",
          "height": 648
        },
        "id": "FeSTL9gHWKE0",
        "outputId": "c018a6d4-2945-43bc-cd9b-e4ae47dc1f63"
      },
      "execution_count": 3,
      "outputs": [
        {
          "output_type": "stream",
          "name": "stderr",
          "text": [
            "/tmp/ipython-input-2947953553.py:25: FutureWarning: A value is trying to be set on a copy of a DataFrame or Series through chained assignment using an inplace method.\n",
            "The behavior will change in pandas 3.0. This inplace method will never work because the intermediate object on which we are setting values always behaves as a copy.\n",
            "\n",
            "For example, when doing 'df[col].method(value, inplace=True)', try using 'df.method({col: value}, inplace=True)' or df[col] = df[col].method(value) instead, to perform the operation inplace on the original object.\n",
            "\n",
            "\n",
            "  df['Value'].fillna(mean_value, inplace=True)\n"
          ]
        },
        {
          "output_type": "display_data",
          "data": {
            "text/plain": [
              "<Figure size 1200x500 with 2 Axes>"
            ],
            "image/png": "[encoded data removed]"
          },
          "metadata": {}
        }
      ]
    },
    {
      "cell_type": "code",
      "source": [
        "#Implement Min-Max scaling on the following list of numbers [2, 5, 10, 15,20] using sklearn.preprocessing.MinMaxScaler. Print the scaled array\n",
        "from sklearn.preprocessing import MinMaxScaler\n",
        "import numpy as np\n",
        "\n",
        "# Original data\n",
        "data = np.array([[2], [5], [10], [15], [20]])\n",
        "\n",
        "# Initialize MinMaxScaler\n",
        "scaler = MinMaxScaler()\n",
        "\n",
        "# Fit and transform data\n",
        "scaled_data = scaler.fit_transform(data)\n",
        "\n",
        "# Print the scaled array\n",
        "print(scaled_data.flatten())\n"
      ],
      "metadata": {
        "colab": {
          "base_uri": "https://localhost:8080/"
        },
        "id": "C5ZfXDVRWKMD",
        "outputId": "bea7e08f-2f65-4245-ca65-747decde03ff"
      },
      "execution_count": 4,
      "outputs": [
        {
          "output_type": "stream",
          "name": "stdout",
          "text": [
            "[0.         0.16666667 0.44444444 0.72222222 1.        ]\n"
          ]
        }
      ]
    },
    {
      "cell_type": "markdown",
      "source": [
        "10. You are working as a data scientist for a retail company. You receive a customer\n",
        "transaction dataset that contains:\n",
        "Missing ages,\n",
        "Outliers in transaction amount,\n",
        "A highly imbalanced target (fraud vs. non-fraud),\n",
        "Categorical variables like payment method.\n",
        "Explain the step-by-step data preparation plan you’d follow before training a machine learning\n",
        "model. Include how you'd address missing data, outliers, imbalance, and encoding.\n",
        "\n",
        "- As a data scientist handling the retail customer transaction dataset with missing ages, outliers in transaction amounts, a highly imbalanced fraud target, and categorical variables like payment method, the following step-by-step data preparation plan can be followed before training a machine learning model:\n",
        "\n",
        "Step 1:\n",
        "Handle Missing Data:\n",
        "- Analyze missingness pattern in the Age column.\n",
        "\n",
        "- Impute missing ages using techniques such as mean or median imputation if missingness is random and limited.\n",
        "\n",
        "- Alternatively, use predictive imputation methods or flag missing ages if more appropriate.\n",
        "\n",
        "- Ensure imputation preserves the integrity of the data for downstream models.\n",
        "\n",
        "Step 2:\n",
        "Detect and Handle Outliers\n",
        "- Identify outliers in transaction amounts using statistical methods such as Interquartile Range (IQR) or Z-score.\n",
        "\n",
        "- Handle outliers by capping , transformation, or removal if they are errors or unlikely valid observations.\n",
        "\n",
        "- Consider business knowledge to decide if outliers represent rare but valid transactions .\n",
        "\n",
        "Step 3:\n",
        "Address Class Imbalance\n",
        "- Analyze the extent of imbalance between fraud and non-fraud classes.\n",
        "\n",
        "- Use resampling techniques such as:\n",
        "\n",
        "Oversampling minority class, Undersampling majority class.\n",
        "\n",
        "- Combination of both or using ensemble methods tailored for imbalance.\n",
        "\n",
        "- Consider evaluation metrics robust to imbalance like F1-score, precision-recall curves, rather than accuracy.\n",
        "\n",
        "Step 4:\n",
        "Encode Categorical Variables\n",
        "- Convert categorical features like payment method into numerical representations for ML algorithms.\n",
        "\n",
        "- Use one-hot encoding if the categorical variable has nominal categories without order.\n",
        "\n",
        "- Alternatively, consider ordinal encoding if categories have a known order.Avoid dummy variable trap by dropping one category if using linear models.\n",
        "\n",
        "Step 5:\n",
        "Scale/Normalize Features\n",
        "\n",
        "- Standardize or normalize numerical features such as transaction amount and age to ensure they contribute equally to model training.\n",
        "\n",
        "Step 6:\n",
        "Data Splitting and Validation\n",
        "- Split data into training and testing sets to evaluate model performance accurately.\n",
        "\n",
        "- Apply preprocessing steps like scaling and encoding consistently on train/test splits to prevent data leakage.\n",
        "\n",
        "This plan ensures the incoming dataset is clean, balanced, and in a suitable format for building robust machine learning models to detect fraud and support business goals effectively. Each preprocessing step addresses specific data quality challenges to maximize model accuracy and reliability."
      ],
      "metadata": {
        "id": "mIbyHsm0XZ7L"
      }
    }
  ]
}